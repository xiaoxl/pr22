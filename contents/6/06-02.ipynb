{
  "cells": [
    {
      "cell_type": "markdown",
      "metadata": {},
      "source": [
        "## packages / modules\n",
        "\n",
        "Main reference is [RealPython](https://realpython.com/python-modules-packages/).\n",
        "\n",
        "### `import`\n",
        "\n",
        "In most cases we won't only write one single Python file. If we want to use codes from other files, we need to `import`.\n",
        "\n",
        "- If both files are in the same folder, e.g. `file1.py` and `file2.py`, you may just put `import file2` in `file1.py`, and use `file2.myfunction()` to call functions or variables defined in `file2.py`.\n",
        "- If both files are in the same folder, and you just want to use one function from `file1.py` in `file2.py`, you may `from file1 import myfunction()`, and then directly write `myfunction()` in `file2.py`.\n",
        "\n",
        "\n",
        "::: {#exm-}\n",
        "This is from `file1.py`."
      ],
      "id": "eb1f485a"
    },
    {
      "cell_type": "code",
      "metadata": {},
      "source": [
        "s = \"This is from file1.py.\"\n",
        "a = [100, 200, 300]\n",
        "\n",
        "def foo(arg):\n",
        "    print(f'arg = {arg}')\n",
        "\n",
        "class Foo:\n",
        "    pass"
      ],
      "id": "10333236",
      "execution_count": null,
      "outputs": []
    },
    {
      "cell_type": "markdown",
      "metadata": {},
      "source": [
        "In `file2.py`, we could work as follows.\n"
      ],
      "id": "adc33435"
    },
    {
      "cell_type": "code",
      "metadata": {},
      "source": [
        "import file1\n",
        "file1.s"
      ],
      "id": "d1067c01",
      "execution_count": null,
      "outputs": []
    },
    {
      "cell_type": "code",
      "metadata": {},
      "source": [
        "file1.a"
      ],
      "id": "49c36a3d",
      "execution_count": null,
      "outputs": []
    },
    {
      "cell_type": "code",
      "metadata": {},
      "source": [
        "file1.foo(file1.a)"
      ],
      "id": "90556cf0",
      "execution_count": null,
      "outputs": []
    },
    {
      "cell_type": "code",
      "metadata": {},
      "source": [
        "file1.Foo()"
      ],
      "id": "e48852b5",
      "execution_count": null,
      "outputs": []
    },
    {
      "cell_type": "markdown",
      "metadata": {},
      "source": [
        ":::\n"
      ],
      "id": "413d66d4"
    },
    {
      "cell_type": "code",
      "metadata": {},
      "source": [
        "if __name__ == '__main__':\n",
        "    pass"
      ],
      "id": "41504beb",
      "execution_count": null,
      "outputs": []
    }
  ],
  "metadata": {
    "kernelspec": {
      "name": "f22",
      "language": "python",
      "display_name": "Python (22f)"
    }
  },
  "nbformat": 4,
  "nbformat_minor": 5
}