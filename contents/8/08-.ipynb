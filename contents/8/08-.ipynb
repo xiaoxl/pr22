{
  "cells": [
    {
      "cell_type": "markdown",
      "metadata": {},
      "source": [
        "# R for Data Sciences\n",
        "\n",
        "\n",
        "The main reference for this Chapter is @Wic2017.\n",
        "\n",
        "\n",
        "{{< include 08-01.qmd >}}\n",
        "\n",
        "\n",
        "{{< include 08-02.qmd >}}\n",
        "\n",
        "\n",
        "{{< include 08-03.qmd >}}\n",
        "\n",
        "\n",
        "{{< include 08-04.qmd >}}\n",
        "\n",
        "\n",
        "\n",
        "{{< include 08-ex.qmd >}}\n",
        "\n",
        "\n",
        "\n",
        "{{< include 08-proj.qmd >}}\n"
      ],
      "id": "0ba3c42a"
    },
    {
      "cell_type": "code",
      "metadata": {
        "collapse": true,
        "comment": "#>"
      },
      "source": [
        "1+1"
      ],
      "id": "63ea22f5",
      "execution_count": null,
      "outputs": []
    }
  ],
  "metadata": {
    "kernelspec": {
      "name": "f22",
      "language": "python",
      "display_name": "Python (22f)"
    }
  },
  "nbformat": 4,
  "nbformat_minor": 5
}